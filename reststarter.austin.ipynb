{
 "cells": [
  {
   "cell_type": "code",
   "execution_count": 3,
   "metadata": {},
   "outputs": [],
   "source": [
    "import requests\n",
    "\n",
    "kick_api = requests.get(\"http://localhost:8000/kickstarter/\")\n"
   ]
  },
  {
   "cell_type": "code",
   "execution_count": 4,
   "metadata": {},
   "outputs": [
    {
     "name": "stdout",
     "output_type": "stream",
     "text": [
      "[{'id': 2, 'backers_count': 1, 'blurb': 'it worked', 'category': 'adding data'}, {'id': 3, 'backers_count': 69, 'blurb': 'keep it mature', 'category': 'adding more data'}, {'id': 1, 'backers_count': 100, 'blurb': 'test', 'category': 'new'}]\n"
     ]
    }
   ],
   "source": [
    "print(kick_api.json())"
   ]
  },
  {
   "cell_type": "code",
   "execution_count": 7,
   "metadata": {},
   "outputs": [],
   "source": [
    "kick_api = requests.post(\n",
    "    'http://localhost:8000/kickstarter/',\n",
    "    data = {'backers_count': '20', 'blurb': 'Does this work', 'category': 'dat new new'}\n",
    ")"
   ]
  },
  {
   "cell_type": "code",
   "execution_count": 8,
   "metadata": {},
   "outputs": [
    {
     "name": "stdout",
     "output_type": "stream",
     "text": [
      "{'id': 4, 'backers_count': 20, 'blurb': 'Does this work', 'category': 'dat new new'}\n"
     ]
    }
   ],
   "source": [
    "print(kick_api.json())"
   ]
  },
  {
   "cell_type": "code",
   "execution_count": 9,
   "metadata": {},
   "outputs": [
    {
     "name": "stdout",
     "output_type": "stream",
     "text": [
      "4\n"
     ]
    }
   ],
   "source": [
    "update_id = kick_api.json()['id']\n",
    "print(update_id)"
   ]
  },
  {
   "cell_type": "code",
   "execution_count": null,
   "metadata": {},
   "outputs": [],
   "source": [
    "put_kick = requests.put(\n",
    "    f'http://localhost:8000/kickstarter/{update_id}/',\n",
    "    data = {'backers_count': '20', 'blurb': 'Updated!'}\n",
    ")"
   ]
  },
  {
   "cell_type": "code",
   "execution_count": null,
   "metadata": {},
   "outputs": [],
   "source": [
    "delete_kick = requests.delete(\n",
    "    f'http://localhost:8000/kickstarter/2/'\n",
    ")"
   ]
  }
 ],
 "metadata": {
  "kernelspec": {
   "display_name": "Python 3",
   "language": "python",
   "name": "python3"
  },
  "language_info": {
   "codemirror_mode": {
    "name": "ipython",
    "version": 3
   },
   "file_extension": ".py",
   "mimetype": "text/x-python",
   "name": "python",
   "nbconvert_exporter": "python",
   "pygments_lexer": "ipython3",
   "version": "3.7.1"
  }
 },
 "nbformat": 4,
 "nbformat_minor": 2
}
